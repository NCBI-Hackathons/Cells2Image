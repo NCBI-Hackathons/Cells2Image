{
 "cells": [
  {
   "cell_type": "code",
   "execution_count": null,
   "metadata": {},
   "outputs": [],
   "source": [
    "def get_donut(center_mask):\n",
    "    # takes a mask and returns the donut mask around it\n",
    "\n",
    "    #generate circular mask for dilation\n",
    "    y,x = np.ogrid[-r:r, -r:r]\n",
    "    circle = x*x + y*y <= r*r\n",
    "\n",
    "    # dilate and subtract\n",
    "    total_mask = binary_dilation(center_mask,circle)\n",
    "    donut_mask = total_mask - center_mask\n",
    "\n",
    "    return donut_mask\n"
   ]
  }
 ],
 "metadata": {
  "kernelspec": {
   "display_name": "Python 2",
   "language": "python",
   "name": "python2"
  },
  "language_info": {
   "codemirror_mode": {
    "name": "ipython",
    "version": 2
   },
   "file_extension": ".py",
   "mimetype": "text/x-python",
   "name": "python",
   "nbconvert_exporter": "python",
   "pygments_lexer": "ipython2",
   "version": "2.7.13"
  }
 },
 "nbformat": 4,
 "nbformat_minor": 2
}
