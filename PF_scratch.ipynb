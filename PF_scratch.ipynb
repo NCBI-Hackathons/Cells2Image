{
 "cells": [
  {
   "cell_type": "code",
   "execution_count": 2,
   "metadata": {},
   "outputs": [
    {
     "name": "stdout",
     "output_type": "stream",
     "text": [
      "(124, 2, 512, 512)\n"
     ]
    }
   ],
   "source": [
    "import skimage.io\n",
    "import numpy as np\n",
    "import matplotlib.pyplot as plt\n",
    "%matplotlib inline\n",
    "\n",
    "prefix = './'\n",
    "\n",
    "images = { 'filename':'recording1.czi - recording1.czi #03.tif', 'rounded':69, 'egress':76  }\n",
    "\n",
    "img = skimage.io.imread(''.join([prefix,'recording1.czi - recording1.czi #03.tif']))\n",
    "\n",
    "print img.shape"
   ]
  },
  {
   "cell_type": "code",
   "execution_count": 12,
   "metadata": {},
   "outputs": [
    {
     "data": {
      "text/plain": [
       "(array([  2.58945000e+05,   1.96500000e+03,   6.78000000e+02,\n",
       "          2.81000000e+02,   1.37000000e+02,   7.00000000e+01,\n",
       "          3.70000000e+01,   1.90000000e+01,   5.00000000e+00,\n",
       "          7.00000000e+00]),\n",
       " array([     0. ,   5794.9,  11589.8,  17384.7,  23179.6,  28974.5,\n",
       "         34769.4,  40564.3,  46359.2,  52154.1,  57949. ]),\n",
       " <a list of 10 Patch objects>)"
      ]
     },
     "execution_count": 12,
     "metadata": {},
     "output_type": "execute_result"
    },
    {
     "data": {
      "image/png": "[encoded data removed]",
      "text/plain": [
       "<matplotlib.figure.Figure at 0x1ec39030>"
      ]
     },
     "metadata": {},
     "output_type": "display_data"
    }
   ],
   "source": [
    "\n",
    "plt.hist(img[0,0,:,:].flatten())\n",
    "\n",
    "#plt.imshow(img[0,0,:,:],cmap='gray')"
   ]
  },
  {
   "cell_type": "code",
   "execution_count": null,
   "metadata": {},
   "outputs": [],
   "source": []
  }
 ],
 "metadata": {
  "kernelspec": {
   "display_name": "Python 2",
   "language": "python",
   "name": "python2"
  },
  "language_info": {
   "codemirror_mode": {
    "name": "ipython",
    "version": 2
   },
   "file_extension": ".py",
   "mimetype": "text/x-python",
   "name": "python",
   "nbconvert_exporter": "python",
   "pygments_lexer": "ipython2",
   "version": "2.7.14"
  }
 },
 "nbformat": 4,
 "nbformat_minor": 2
}
